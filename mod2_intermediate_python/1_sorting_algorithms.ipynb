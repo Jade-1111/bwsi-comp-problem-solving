{
 "cells": [
  {
   "cell_type": "markdown",
   "metadata": {},
   "source": [
    "# Intermediate Python: Sorting Algorithms"
   ]
  },
  {
   "cell_type": "markdown",
   "metadata": {},
   "source": [
    "## **Time complexity** \n",
    "\n",
    "[Time Complexity](https://www.geeksforgeeks.org/dsa/what-is-logarithmic-time-complexity/) measures how the runtime of an algorithm increases as the input size, *n*, grows. It also helps us compare algorithms’ efficiency independently of hardware or programming language. This allows us to reason about scalability — how well an algorithm will perform as our dataset grows large.\n",
    "\n",
    "A **step** is a single fundamental operation an algorithm performs, such as:\n",
    "- Comparing two numbers\n",
    "- Swapping two elements\n",
    "- Assigning a value to a variable\n",
    "- Example: This loops performs n steps\n",
    "    ```python\n",
    "    for i in range(n):\n",
    "        print(i)\n",
    "    ```\n",
    "\n",
    "**Key idea**: We care about the growth rate, measured in units of number of steps, not just the time of execution in seconds\n",
    "\n",
    "\n",
    "<p align=\"left\">\n",
    "    <img src = \"https://media.geeksforgeeks.org/wp-content/cdn-uploads/20220812122843/Logarithmic-time-complexity-blog-1.jpg\" width = \"800\">\n",
    "</p>"
   ]
  },
  {
   "cell_type": "markdown",
   "metadata": {},
   "source": [
    "There are several notations used to describe time complexity:\n",
    "- [Big O (O)](https://www.geeksforgeeks.org/dsa/analysis-algorithms-big-o-analysis/): Describes the upper bound — the worst-case growth rate of an algorithm.\n",
    "\n",
    "    <p align=\"left\">\n",
    "    <img src = \"https://media.geeksforgeeks.org/wp-content/uploads/20240329121436/big-o-analysis-banner.webp\" width = \"800\">\n",
    "    </p>\n",
    "\n",
    "- [Big Omega ($\\Omega$)](https://www.geeksforgeeks.org/dsa/analysis-of-algorithms-big-omega-notation/): Describes the lower bound — the best-case growth rate.\n",
    "    \n",
    "    <p align=\"left\">\n",
    "    <img src = \"https://media.geeksforgeeks.org/wp-content/uploads/20240329113344/Big-omega-notation-banner.webp\" width = \"800\">\n",
    "    </p>\n",
    "\n",
    "There are other time complexity metrics but we focus on these two in this lecture.\n",
    "\n",
    "In addition to time, we also care about **space complexity**, which measures how much memory (RAM) an algorithm uses as the input size grows. Efficient algorithms often balance time vs. space trade-offs."
   ]
  },
  {
   "cell_type": "markdown",
   "metadata": {},
   "source": [
    "### Time Complexity of Lists and Dictionaries\n",
    "\n",
    "To build some intuition, let's consider the time complexity of using lists and dictionaries in Python.\n",
    "\n",
    "#### **Python Lists:** Lists are ordered sequences of elements.\n",
    "\n",
    "| Operation                   | Big O    | \n",
    "| -------------------------- | -------- |\n",
    "| Access by index            | O(1)     |\n",
    "| Search by value            | O(n)     |\n",
    "| Insert/remove at end       | O(1)     |\n",
    "| Insert/remove at beginning | O(n)     |\n",
    "\n",
    "#### **Python Dictionaries:** Dictionaries are hash maps (key-value pairs).\n",
    "| Operation                   | Big O    |\n",
    "| -------------------------- | -------- | \n",
    "| Lookup by key              | O(1)     |\n",
    "| Insert/delete by key       | O(1)     |\n",
    "| Iterating over keys/values | O(n)     |"
   ]
  },
  {
   "cell_type": "code",
   "execution_count": 1,
   "metadata": {},
   "outputs": [],
   "source": [
    "# a set is a hashmap but there is no key-to-value mapping, it's just a key mapping\n",
    "name_set = {'Mr. Bean', 'Paul Blart', 'Zoolander', 'Borat', 'Hubert Dubois',} \n",
    "name_list = ['Mr. Bean', 'Paul Blart', 'Zoolander', 'Borat', 'Hubert Dubois',]\n",
    "name_to_find ='Hubert Dubois'"
   ]
  },
  {
   "cell_type": "code",
   "execution_count": 2,
   "metadata": {},
   "outputs": [
    {
     "name": "stdout",
     "output_type": "stream",
     "text": [
      "CPU times: user 6 μs, sys: 7 μs, total: 13 μs\n",
      "Wall time: 61 μs\n"
     ]
    },
    {
     "data": {
      "text/plain": [
       "True"
      ]
     },
     "execution_count": 2,
     "metadata": {},
     "output_type": "execute_result"
    }
   ],
   "source": [
    "%%time\n",
    "name_to_find in name_set"
   ]
  },
  {
   "cell_type": "code",
   "execution_count": 3,
   "metadata": {},
   "outputs": [
    {
     "name": "stdout",
     "output_type": "stream",
     "text": [
      "CPU times: user 1 μs, sys: 0 ns, total: 1 μs\n",
      "Wall time: 2.15 μs\n"
     ]
    },
    {
     "data": {
      "text/plain": [
       "True"
      ]
     },
     "execution_count": 3,
     "metadata": {},
     "output_type": "execute_result"
    }
   ],
   "source": [
    "%%time\n",
    "name_to_find in name_list"
   ]
  },
  {
   "cell_type": "markdown",
   "metadata": {},
   "source": [
    "# Common Sorting Algorithms"
   ]
  },
  {
   "cell_type": "markdown",
   "metadata": {},
   "source": [
    "## <span style=\"color: blue\">Quick Sort</span>\n",
    "\n",
    "\n",
    "### Definition\n",
    "Quick Sort is a **divide-and-conquer** sorting algorithm. It works by selecting a **pivot** element, then **partitioning** the list into two sublists — one with elements less than the pivot and another with elements greater than the pivot. These sublists are then sorted **recursively**, and the results are combined to form the sorted list.\n",
    "\n",
    "---\n",
    "\n",
    "### Pseudo Code: \n",
    "\n",
    "1. Select a pivot element from the list.  \n",
    "2. Partition the list into two sublists:  \n",
    "   - Elements **less than** the pivot  \n",
    "   - Elements **greater than** the pivot  \n",
    "3. **Recursively** sort the two sublists.  \n",
    "4. Combine (concatenate) the sorted sublists and the pivot to form the final sorted list.\n",
    "\n",
    "---\n",
    "\n",
    "### Worked Example\n",
    "```python\n",
    "ex_list = [6, 3, 7, 5, 2]\n",
    "less_than_pivot5, greater_than_pivot5 = Partition(pivot=5, ex_list)\n",
    "# less_than_pivot5 = [3, 2], greater_than_pivot5 = [6, 7]\n",
    "\n",
    "   # MANAGE SUBPROBLEMS: less_than_pivot5, greater_than_pivot5\n",
    "\n",
    "   # SUBPROBLEM 1\n",
    "   less_than_pivot2, greater_than_pivot2 = Partition(pivot=2, less_than_pivot5)\n",
    "   # less_than_pivot2 = [], greater_than_pivot2 = [3]\n",
    "\n",
    "   merged_less_than_pivot5 = merge(less_than_pivot2, 2, greater_than_pivot2)\n",
    "   # merged_less_than_pivot5 = [2,3]\n",
    "\n",
    "   # END SUBPROBLEM 1\n",
    "\n",
    "   # SUBPROBLEM 2\n",
    "   less_than_pivot7, greater_than_pivot7 = Partition(pivot=7, greater_than_pivot5)\n",
    "   # less_than_pivot7 = [6], greater_than_pivot7 = []\n",
    "\n",
    "   merged_greater_than_pivot5 = merge(less_than_pivot7, 7, greater_than_pivot7)\n",
    "   # merged_greater_than_pivot5 = [6,7]\n",
    "\n",
    "   # END SUBPROBLEM 2\n",
    "\n",
    "merged = merge(merged_less_than_pivot5, 5, merged_greater_than_pivot5)\n",
    "# merged = [2, 3, 5, 6, 7]\n",
    "```\n",
    "\n",
    "### [Animation Link](https://www.hackerearth.com/practice/algorithms/sorting/quick-sort/visualize/)\n",
    "\n",
    "| Case                | Description                                                    | Time Complexity |\n",
    "| ------------------- | -------------------------------------------------------------- | --------------- |\n",
    "| $\\Omega$ (Best Case) | Pivot splits list evenly                                       | **O(n $log_2$ n)**  |\n",
    "| Big-O (Worst Case)   | Pivot is smallest/largest element each time (unbalanced split) | **O($n^2$)**       |\n",
    "\n",
    "\n",
    "Pros:\n",
    "- Can be implemented in-place (no need for large extra memory)\n",
    "- Can be optimized with randomized pivot selection\n",
    "\n",
    "Cons:\n",
    "- Choice of pivot heavily affects performance"
   ]
  },
  {
   "cell_type": "code",
   "execution_count": 43,
   "metadata": {},
   "outputs": [
    {
     "name": "stdout",
     "output_type": "stream",
     "text": [
      "[2, 3, 5, 6, 7]\n"
     ]
    }
   ],
   "source": [
    "# O(n^2) space complexity implementation of quick sort\n",
    "def quick_sort(arr):\n",
    "    if len(arr) <= 1:\n",
    "        return arr  \n",
    "\n",
    "    pivot = arr[len(arr) // 2]  \n",
    "    left = [x for x in arr if x < pivot]\n",
    "    middle = [x for x in arr if x == pivot]\n",
    "    right = [x for x in arr if x > pivot]\n",
    "\n",
    "    return quick_sort(left) + middle + quick_sort(right)\n",
    "\n",
    "numbers = [6, 3, 7, 5, 2]\n",
    "print(quick_sort(numbers))  "
   ]
  },
  {
   "cell_type": "code",
   "execution_count": 44,
   "metadata": {},
   "outputs": [
    {
     "name": "stdout",
     "output_type": "stream",
     "text": [
      "[2, 3, 5, 6, 7]\n"
     ]
    }
   ],
   "source": [
    "# O(1) space complexity implementation of quick sort\n",
    "def quick_sort_in_place(arr, low, high):\n",
    "    if low < high:\n",
    "        pivot_index = partition(arr, low, high)\n",
    "        quick_sort_in_place(arr, low, pivot_index - 1)\n",
    "        quick_sort_in_place(arr, pivot_index + 1, high) \n",
    "    return arr\n",
    "def partition(arr, low, high):\n",
    "    pivot = arr[high]  \n",
    "    i = low - 1  \n",
    "    for j in range(low, high):\n",
    "        if arr[j] < pivot:\n",
    "            i += 1\n",
    "            arr[i], arr[j] = arr[j], arr[i]  \n",
    "    arr[i + 1], arr[high] = arr[high], arr[i + 1]  \n",
    "    return i + 1\n",
    "numbers = [6, 3, 7, 5, 2]\n",
    "print(quick_sort_in_place(numbers, 0, len(numbers) - 1))"
   ]
  },
  {
   "cell_type": "markdown",
   "metadata": {},
   "source": [
    "## <span style=\"color: yellow\">Bubble Sort</span>\n",
    "\n",
    "### Definition\n",
    "Bubble Sort is a simple **comparison-based sorting algorithm**. It repeatedly steps through the list, compares adjacent pairs, and **swaps them if they are in the wrong order**. This process continues until the list is fully sorted — like “bubbling” the largest elements to the top.\n",
    "\n",
    "---\n",
    "\n",
    "### Pseudo Code: \n",
    "\n",
    "1. Compare each pair of adjacent elements.  \n",
    "2. If the current element is greater than the next element, **swap** them.  \n",
    "3. Continue this process for all elements in the list.  \n",
    "4. After each full pass, the largest element is placed at the end.  \n",
    "5. Repeat steps 1–4 until no swaps are needed (the list is sorted).\n",
    "\n",
    "---\n",
    "\n",
    "### Worked Example\n",
    "```python\n",
    "[6, 3, 7, 5, 2]\n",
    "# Pass 1\n",
    "# Compare and swap adjacent elements where needed\n",
    "[3, 6, 5, 2, 7] \n",
    "\n",
    "# Pass 2\n",
    "[3, 5, 2, 6, 7]\n",
    "\n",
    "# Pass 3\n",
    "[3, 2, 5, 6, 7]\n",
    "\n",
    "# Pass 4\n",
    "[2, 3, 5, 6, 7] \n",
    "```\n",
    "### [Animation Link](https://www.hackerearth.com/practice/algorithms/sorting/bubble-sort/visualize/)\n",
    "\n",
    "| Case             | Description                                 | Time Complexity |\n",
    "| ---------------- | ------------------------------------------- | --------------- |\n",
    "| $\\Omega$ (Best Case)        | Already sorted (no swaps needed)            | **O(n)**        |\n",
    "| Big-O (Worst Case)       | Reverse order                               | **O($n^2$)**       |\n",
    "\n",
    "Pros:\n",
    "- Works in-place \n",
    "- Good for small datasets or nearly sorted lists\n",
    "\n",
    "Cons:\n",
    "- Inefficient on large lists (O($n^2$) time complexity)\n",
    "- Performs unnecessary comparisons once data is nearly sorted"
   ]
  },
  {
   "cell_type": "code",
   "execution_count": 45,
   "metadata": {},
   "outputs": [
    {
     "name": "stdout",
     "output_type": "stream",
     "text": [
      "[2, 3, 5, 6, 7]\n"
     ]
    }
   ],
   "source": [
    "def bubble_sort(arr):\n",
    "    n = len(arr)\n",
    "    for i in range(n - 1):\n",
    "        swapped = False\n",
    "        for j in range(n - i - 1):\n",
    "            if arr[j] > arr[j + 1]:\n",
    "                arr[j], arr[j + 1] = arr[j + 1], arr[j]  \n",
    "                swapped = True\n",
    "        if not swapped:  \n",
    "            break\n",
    "    return arr\n",
    "\n",
    "numbers = [6, 3, 7, 5, 2]\n",
    "print(bubble_sort(numbers))  \n"
   ]
  },
  {
   "cell_type": "markdown",
   "metadata": {},
   "source": [
    "## <span style=\"color: green\">Selection Sort</span>\n",
    "\n",
    "### Definition\n",
    "Selection Sort is a simple **comparison-based sorting algorithm**. It works by repeatedly finding the **smallest (or largest)** element from the unsorted portion of the list and **moving it to its correct position** in the sorted portion. This continues until the entire list is sorted.\n",
    "\n",
    "---\n",
    "\n",
    "### Pseudo Code: \n",
    "\n",
    "1. Start with the first element as the minimum.  \n",
    "2. Compare this element with every other element in the unsorted part of the list.  \n",
    "3. If a smaller element is found, mark it as the new minimum.  \n",
    "4. After one full pass, **swap** the minimum element with the first unsorted element.  \n",
    "5. Move the boundary of the sorted portion one step forward.  \n",
    "6. Repeat until the entire list is sorted.\n",
    "\n",
    "---\n",
    "\n",
    "### Worked Example\n",
    "```python\n",
    "[6, 3, 7, 5, 2]\n",
    "\n",
    "# Pass 1: Find the smallest element in [6, 3, 7, 5, 2]\n",
    "# Minimum = 2: Swap with first element\n",
    "[2, 3, 7, 5, 6]\n",
    "\n",
    "# Pass 2: Find smallest in [3, 7, 5, 6]\n",
    "# Minimum = 3: Already in correct place\n",
    "[2, 3, 7, 5, 6]\n",
    "\n",
    "# Pass 3: Find smallest in [7, 5, 6]\n",
    "# Minimum = 5: Swap with 7\n",
    "[2, 3, 5, 7, 6]\n",
    "\n",
    "# Pass 4: Find smallest in [7, 6]\n",
    "# Minimum = 6: Swap with 7\n",
    "[2, 3, 5, 6, 7]\n",
    "```\n",
    "### [Animation Link](https://www.hackerearth.com/practice/algorithms/sorting/selection-sort/visualize/)\n",
    "\n",
    "| Case             | Description                             | Time Complexity |\n",
    "| ---------------- | --------------------------------------- | --------------- |\n",
    "| $\\Omega$ (Best Case)        | Already sorted                          | **O($n^2$)**       |\n",
    "| Big-O (Worst Case)       | Reverse order                           | **O($n^2$)**       |\n",
    "\n",
    "\n",
    "Pros:\n",
    "- Performs well on small datasets\n",
    "- In-place algorithm (no additional memory required)\n",
    "\n",
    "Cons:\n",
    "- Inefficient for large datasets (O($n^2$) comparisons)"
   ]
  },
  {
   "cell_type": "code",
   "execution_count": 46,
   "metadata": {},
   "outputs": [
    {
     "name": "stdout",
     "output_type": "stream",
     "text": [
      "[2, 3, 5, 6, 7]\n"
     ]
    }
   ],
   "source": [
    "def selection_sort(arr):\n",
    "    n = len(arr)\n",
    "    for i in range(n):\n",
    "        min_idx = i\n",
    "        for j in range(i + 1, n):\n",
    "            if arr[j] < arr[min_idx]:\n",
    "                min_idx = j\n",
    "        arr[i], arr[min_idx] = arr[min_idx], arr[i]  \n",
    "    return arr\n",
    "\n",
    "numbers = [6, 3, 7, 5, 2]\n",
    "print(selection_sort(numbers))  "
   ]
  },
  {
   "cell_type": "markdown",
   "metadata": {},
   "source": [
    "## <span style=\"color: red\">Insertion Sort</span>\n",
    "\n",
    "### Definition\n",
    "Insertion Sort is a simple **comparison-based sorting algorithm** that builds the final sorted list **one element at a time**. It takes one element from the unsorted portion and **inserts** it into the correct position in the sorted portion.\n",
    "\n",
    "---\n",
    "\n",
    "### Pseudo Code: \n",
    "\n",
    "1. Start with the second element as the “current” element (the first element is considered sorted).  \n",
    "2. Compare the current element with elements in the sorted portion (to its left).  \n",
    "3. Shift all larger elements in the sorted portion one position to the right.  \n",
    "4. Insert the current element into its correct position.  \n",
    "5. Repeat until the entire list is sorted.\n",
    "\n",
    "---\n",
    "\n",
    "### Worked Example\n",
    "```python\n",
    "[6, 3, 7, 5, 2]\n",
    "\n",
    "# Pass 1: current = 3 ; compare with [6]\n",
    "# Insert 3 before 6 : \n",
    "[3, 6, 7, 5, 2]\n",
    "\n",
    "# Pass 2: current = 7 ; compare with [3, 6]\n",
    "# Already larger : \n",
    "[3, 6, 7, 5, 2]\n",
    "\n",
    "# Pass 3: current = 5 ; compare with [3, 6, 7]\n",
    "# Insert 5 between 3 and 6 : \n",
    "[3, 5, 6, 7, 2]\n",
    "\n",
    "# Pass 4: current = 2 ; compare with [3, 5, 6, 7]\n",
    "# Insert 2 at beginning : \n",
    "[2, 3, 5, 6, 7]\n",
    "```\n",
    "### [Animation Link](https://www.hackerearth.com/practice/algorithms/sorting/insertion-sort/visualize/)\n",
    "\n",
    "| Case             | Description                                 | Time Complexity |\n",
    "| ---------------- | ------------------------------------------- | --------------- |\n",
    "| $\\Omega$ (Best Case)        | Already sorted (no shifting needed)         | **O(n)**        |\n",
    "| Big-O (Worst Case)       | Reverse order                               | **O($n^2$)**       |\n",
    "\n",
    "Pros:\n",
    "- Efficient for small datasets\n",
    "- Performs well on nearly sorted data\n",
    "- Works in-place (minimal extra memory)\n",
    "\n",
    "Cons:\n",
    "- Inefficient for large datasets (O($n^2$) time complexity)"
   ]
  },
  {
   "cell_type": "code",
   "execution_count": 47,
   "metadata": {},
   "outputs": [
    {
     "name": "stdout",
     "output_type": "stream",
     "text": [
      "[2, 3, 5, 6, 7]\n"
     ]
    }
   ],
   "source": [
    "def insertion_sort(arr):\n",
    "    for i in range(1, len(arr)):\n",
    "        current = arr[i]\n",
    "        j = i - 1\n",
    "        while j >= 0 and arr[j] > current:\n",
    "            arr[j + 1] = arr[j]\n",
    "            j -= 1\n",
    "        arr[j + 1] = current \n",
    "    return arr\n",
    "\n",
    "numbers = [6, 3, 7, 5, 2]\n",
    "print(insertion_sort(numbers))  \n"
   ]
  },
  {
   "cell_type": "markdown",
   "metadata": {},
   "source": [
    "## <span style=\"color: purple\">Merge Sort</span>\n",
    "\n",
    "### Definition\n",
    "Merge Sort is a **divide-and-conquer** sorting algorithm. It divides the list into two halves, **recursively sorts** each half, and then **merges** the two sorted halves into a single sorted list. \n",
    "\n",
    "---\n",
    "\n",
    "### Pseudo Code:\n",
    "\n",
    "1. If the list has one element or is empty, it is already sorted.  \n",
    "2. Divide the list into two halves.  \n",
    "3. Recursively apply Merge Sort to each half.  \n",
    "4. Merge the two sorted halves together into a single sorted list.\n",
    "\n",
    "---\n",
    "\n",
    "### Worked Example\n",
    "```python\n",
    "[6, 3, 7, 5, 2]\n",
    "\n",
    "# Step 1: Divide\n",
    "# [6, 3, 7] and [5, 2]\n",
    "\n",
    "#   ENTER FIRST SUBPROBLEM: [6, 3, 7]\n",
    "#   SUBPROBLEM 1.1 Divide [6, 3, 7]\n",
    "#   [6, 3] and [7]\n",
    "\n",
    "#   SUBPROBLEM 1.1.1 Divide [6, 3]\n",
    "#   [6] and [3]\n",
    "\n",
    "#   SUBPROBLEM 1.1.2 Merge [6] and [3]\n",
    "#   [3, 6]\n",
    "\n",
    "#   Step 1.2 Merge [3, 6] and [7]\n",
    "#   [3, 6, 7]\n",
    "#   END FIRST SUBPROBLEM\n",
    "\n",
    "#   ENTER SECOND SUBPROBLEM [5, 2]\n",
    "#   SUBPROBLEM 2.1 Divide [5, 2]\n",
    "#   [5] and [2]\n",
    "\n",
    "#   # SUBPROBLEM 2.2 Merfe [5] and [2]\n",
    "#   [2, 5]\n",
    "#   END SECOND SUBPROBLEM \n",
    "\n",
    "# Step 2: Merge [3, 6, 7] and [2, 5]\n",
    "# [2, 3, 5, 6, 7]\n",
    "\n",
    "\n",
    "# Step 2: Recursively sort each half\n",
    "# [6, 3, 7] --> [3, 6, 7]\n",
    "# [5, 2] --> [2, 5]\n",
    "\n",
    "# Step 3: Merge the two sorted halves\n",
    "# Compare elements and merge --> [2, 3, 5, 6, 7]\n",
    "```\n",
    "\n",
    "### [Animation Link](https://www.hackerearth.com/practice/algorithms/sorting/merge-sort/visualize/)\n",
    "\n",
    "| Case             | Description                              | Time Complexity |\n",
    "| ---------------- | ---------------------------------------- | --------------- |\n",
    "| Best Case        | Balanced splits (always divides evenly)  | **O(n $log_2$ n)**  |\n",
    "| Average Case     | Typical case (balanced recursion)        | **O(n $log_2$ n)**  |\n",
    "| Worst Case       | Always balanced (guaranteed performance) | **O(n $log_2$ n)**  |\n",
    "\n",
    "Pros:\n",
    "- Consistent performance — always O(n $log_2$ n)\n",
    "- Performs well for large datasets\n",
    "\n",
    "Cons:\n",
    "- Requires additional memory (O(n) space)\n",
    "- Slower than in-place algorithms for small datasets\n",
    "- Recursive calls add overhead"
   ]
  },
  {
   "cell_type": "code",
   "execution_count": 48,
   "metadata": {},
   "outputs": [
    {
     "name": "stdout",
     "output_type": "stream",
     "text": [
      "[2, 3, 5, 6, 7]\n"
     ]
    }
   ],
   "source": [
    "def merge_sort(arr):\n",
    "    if len(arr) <= 1:\n",
    "        return arr  \n",
    "\n",
    "    mid = len(arr) // 2\n",
    "    left = merge_sort(arr[:mid])\n",
    "    right = merge_sort(arr[mid:])\n",
    "\n",
    "    return merge(left, right)\n",
    "\n",
    "def merge(left, right):\n",
    "    merged = []\n",
    "    i = j = 0\n",
    "\n",
    "    # Compare elements from both halves and merge\n",
    "    while i < len(left) and j < len(right):\n",
    "        if left[i] < right[j]:\n",
    "            merged.append(left[i])\n",
    "            i += 1\n",
    "        else:\n",
    "            merged.append(right[j])\n",
    "            j += 1\n",
    "\n",
    "    # Append any remaining elements\n",
    "    merged.extend(left[i:])\n",
    "    merged.extend(right[j:])\n",
    "    return merged\n",
    "\n",
    "numbers = [6, 3, 7, 5, 2]\n",
    "print(merge_sort(numbers))\n"
   ]
  },
  {
   "cell_type": "code",
   "execution_count": 56,
   "metadata": {},
   "outputs": [],
   "source": [
    "# timing each algorithm on the same input array\n",
    "import random\n",
    "import time\n",
    "\n",
    "random.seed(42)\n",
    "example_array = [random.randint(1, 1000) for _ in range(1000)]"
   ]
  },
  {
   "cell_type": "code",
   "execution_count": 57,
   "metadata": {},
   "outputs": [
    {
     "name": "stdout",
     "output_type": "stream",
     "text": [
      "Quick Sort took 0.003345 seconds\n"
     ]
    }
   ],
   "source": [
    "# time quick_sort\n",
    "start_time_quick_sort = time.time()\n",
    "quick_sort(example_array.copy())\n",
    "end_time_quick_sort = time.time()\n",
    "print(f\"Quick Sort took {end_time_quick_sort - start_time_quick_sort:.6f} seconds\")"
   ]
  },
  {
   "cell_type": "code",
   "execution_count": 58,
   "metadata": {},
   "outputs": [
    {
     "name": "stdout",
     "output_type": "stream",
     "text": [
      "Bubble Sort took 0.074343 seconds\n"
     ]
    }
   ],
   "source": [
    "# time bubble_sort\n",
    "start_time_bubble_sort = time.time()\n",
    "bubble_sort(example_array.copy()) \n",
    "end_time_bubble_sort = time.time()\n",
    "print(f\"Bubble Sort took {end_time_bubble_sort - start_time_bubble_sort:.6f} seconds\")"
   ]
  },
  {
   "cell_type": "code",
   "execution_count": 59,
   "metadata": {},
   "outputs": [
    {
     "name": "stdout",
     "output_type": "stream",
     "text": [
      "Selection Sort took 0.043208 seconds\n"
     ]
    }
   ],
   "source": [
    "# time selection_sort\n",
    "start_time_selection_sort = time.time()\n",
    "selection_sort(example_array.copy())\n",
    "end_time_selection_sort = time.time()\n",
    "print(f\"Selection Sort took {end_time_selection_sort - start_time_selection_sort:.6f} seconds\")"
   ]
  },
  {
   "cell_type": "code",
   "execution_count": 60,
   "metadata": {},
   "outputs": [
    {
     "name": "stdout",
     "output_type": "stream",
     "text": [
      "Insertion Sort took 0.051740 seconds\n"
     ]
    }
   ],
   "source": [
    "# time insertion_sort\n",
    "start_time_insertion_sort = time.time()\n",
    "insertion_sort(example_array.copy())\n",
    "end_time_insertion_sort = time.time()\n",
    "print(f\"Insertion Sort took {end_time_insertion_sort - start_time_insertion_sort:.6f} seconds\")"
   ]
  },
  {
   "cell_type": "code",
   "execution_count": 61,
   "metadata": {},
   "outputs": [
    {
     "name": "stdout",
     "output_type": "stream",
     "text": [
      "Merge Sort took 0.006435 seconds\n"
     ]
    }
   ],
   "source": [
    "# time merge_sort\n",
    "start_time_merge_sort = time.time()\n",
    "merge_sort(example_array.copy())    \n",
    "end_time_merge_sort = time.time()\n",
    "print(f\"Merge Sort took {end_time_merge_sort - start_time_merge_sort:.6f} seconds\")"
   ]
  },
  {
   "cell_type": "code",
   "execution_count": null,
   "metadata": {},
   "outputs": [
    {
     "data": {
      "image/png": "[encoded data removed]",
      "text/plain": [
       "<Figure size 1200x800 with 1 Axes>"
      ]
     },
     "metadata": {},
     "output_type": "display_data"
    }
   ],
   "source": [
    "# plot all the times\n",
    "import matplotlib.pyplot as plt\n",
    "algorithms = ['Quick Sort', 'Bubble Sort', 'Selection Sort', 'Insertion Sort', 'Merge Sort']\n",
    "times = [end_time_quick_sort - start_time_quick_sort,\n",
    "         end_time_bubble_sort - start_time_bubble_sort,\n",
    "         end_time_selection_sort - start_time_selection_sort,\n",
    "         end_time_insertion_sort - start_time_insertion_sort,\n",
    "         end_time_merge_sort - start_time_merge_sort] \n",
    "plt.figure(figsize=(12, 8))\n",
    "plt.bar(algorithms, times, color=['blue', 'orange', 'green', 'red', 'purple'])\n",
    "worst_case_times = ['O(n^2)', 'O($n^2$)', 'O($n^2$)', 'O($n^2$)', 'O(n $log_2$ n)']\n",
    "best_case_times = ['$\\Omega$(n $log_2$ n)', '$\\Omega$(n)', '$\\Omega$($n^2$)', '$\\Omega$(n)', '$\\Omega$(n $log_2$ n)']\n",
    "for i in range(len(algorithms)):\n",
    "    plt.text(i, times[i], f\"{worst_case_times[i]}; {best_case_times[i]}\", ha='center', va='bottom')\n",
    "plt.xticks(rotation=45, ha='right')\n",
    "plt.ylabel('Time (seconds)')\n",
    "plt.title('Sorting Algorithm Performance Comparison')\n",
    "plt.show()"
   ]
  },
  {
   "cell_type": "markdown",
   "metadata": {},
   "source": [
    "Although the plot illustrates runtime, it shows that algorithms with lower time complexity generally complete tasks faster than those with higher time complexity. Also note that algorithms that share the same $\\Omega$ and Big-O bounds do not necessarily run at the same speed. This is because these time complexity metrics describe growth rates as the size of the input changes, not the exact number of operations — implementation details effect performance."
   ]
  }
 ],
 "metadata": {
  "kernelspec": {
   "display_name": "base",
   "language": "python",
   "name": "python3"
  },
  "language_info": {
   "codemirror_mode": {
    "name": "ipython",
    "version": 3
   },
   "file_extension": ".py",
   "mimetype": "text/x-python",
   "name": "python",
   "nbconvert_exporter": "python",
   "pygments_lexer": "ipython3",
   "version": "3.12.8"
  }
 },
 "nbformat": 4,
 "nbformat_minor": 2
}
